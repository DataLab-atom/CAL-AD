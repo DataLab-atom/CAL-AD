{
 "cells": [
  {
   "cell_type": "code",
   "execution_count": 1,
   "metadata": {},
   "outputs": [],
   "source": [
    "import numpy as np"
   ]
  },
  {
   "cell_type": "markdown",
   "metadata": {},
   "source": [
    "|Function | Root |\n",
    "|--- | ---|\n",
    "|$ f_{1}(x)=\\cos{x} - x $| 0.739085133215160641655312|\n",
    "|$ f_{2}(x)=x^{3} + 4x^{2} - 10 $|1.365230013414096845760807|\n",
    "|$ f_{3}(x)=\\sin^{2}{x} - x^{2} + 1 $| 1.404491648215341226035087|\n",
    "|$ f_{4}(x)=x^{2} - {\\rm e}^{x} - 3x + 2  $|0.257530285439860760455367|\n",
    "|$ f_{5}(x)={\\rm e}^{x}\\sin{x} + \\ln{(1+x^{2})} $| 0|\n",
    "|$ f_{6}(x)={\\rm e}^{x^{2} + 7x - 30 } - 1 $|3|\n",
    "|$ f_{7}(x)=\\sqrt{x^{2} + x + 3} - 2\\sin{(x - 2)} - x^{2} + 1 $|2|\n",
    "|$ f_{8}(x)=\\cos{(\\frac{\\pi x}{2})} + \\frac{\\ln{(x^{2} + 2x + 2)}}{x^{2} + 1} $|-1|\n",
    "|$ f_{9}(x)=x^{3} - 0.45310x^{2} + 0.036073x - 1.5445*10^{-3} $|0.366087931257529388620972|\n",
    "|$ f_{10}(x)=98.9027(10+2\\sqrt{5}x)^{2/3} - (10x+2x^{2})^{5/3} $|3.406284331340969211128446|\n",
    "|$ f_{11}(x)=-\\ln{(x)} - 184.8879519 + 9.290502039\\ln{(x+1.066*10^{9})}$| 3772.191350758676295585854|\n",
    "|$ f_{12}(x)=5{\\rm e}^{-x} + x -5$|4.965114231744276303698759|\n",
    "|$ f_{13}(x)=\\frac{x+\\sin{x}\\cos{x}}{\\pi} - \\frac{1}{4}$|0.415855596789867988788005|"
   ]
  },
  {
   "cell_type": "code",
   "execution_count": null,
   "metadata": {},
   "outputs": [],
   "source": [
    "# f_{1}(x)=\\cos{x} - x\n",
    "def f_1(x):\n",
    "    return np.cos(x) - x\n",
    "\n",
    "def f_2(x):\n",
    "    return np.cos(x) - x\n",
    "\n",
    "def f_3(x):\n",
    "    return np.cos(x) - x\n",
    "\n",
    "\n"
   ]
  },
  {
   "cell_type": "code",
   "execution_count": 8,
   "metadata": {},
   "outputs": [
    {
     "name": "stdout",
     "output_type": "stream",
     "text": [
      "Root: 0.7390851332151599, found in 286 iterations\n"
     ]
    }
   ],
   "source": [
    "import numpy as np\n",
    "\n",
    "# 定义非线性方程 f1(x)\n",
    "def f1(x):\n",
    "    return np.cos(x) - x\n",
    "\n",
    "# 定义非线性方程 f1(x) 的导数 f1'(x)\n",
    "def df1(x):\n",
    "    return -np.sin(x) - 1\n",
    "\n",
    "# ZM1 方法的迭代函数\n",
    "def zm1(f, df, x0, tol=1e-50, max_iter=1000):\n",
    "    x = np.array([x0], dtype=np.float64)  # 使用 NumPy 数组\n",
    "    for n in range(max_iter):\n",
    "        y = x - (2/3) * f(x) / df(x)\n",
    "        \n",
    "        # 计算分子和分母\n",
    "        numerator = 11*df(x)**2 - 82*df(x)*df(y) + 39*df(y)**2\n",
    "        denominator = 60*df(x)**2 + 36*df(x)*df(y)\n",
    "        \n",
    "        # 更新 x 的值\n",
    "        x_next = y + (numerator / denominator) * f(x)\n",
    "        \n",
    "        # 检查是否满足收敛条件\n",
    "        if np.abs(x_next - x) < tol:\n",
    "            return x_next[0], n+1  # 返回近似根和迭代次数\n",
    "        \n",
    "        x = x_next\n",
    "    \n",
    "    return x[0], max_iter  # 如果达到最大迭代次数还未收敛，则返回最后一次的 x 值和迭代次数\n",
    "\n",
    "# 使用一个初始猜测值调用 zm1 函数\n",
    "initial_guess = 0.5  # 初始猜测值\n",
    "root, iterations = zm1(f1, df1, initial_guess)\n",
    "print(f\"Root: {root}, found in {iterations} iterations\")"
   ]
  },
  {
   "cell_type": "code",
   "execution_count": 10,
   "metadata": {},
   "outputs": [
    {
     "name": "stdout",
     "output_type": "stream",
     "text": [
      "Root: 0.7390851332151607, found in 3 iterations\n"
     ]
    }
   ],
   "source": [
    "import numpy as np\n",
    "\n",
    "# 定义非线性方程 f1(x)\n",
    "def f1(x):\n",
    "    return np.cos(x) - x\n",
    "\n",
    "# 定义非线性方程 f1(x) 的导数 f1'(x)\n",
    "def df1(x):\n",
    "    return -np.sin(x) - 1\n",
    "\n",
    "# ZM2 方法的迭代函数\n",
    "def zm2(f, df, x0, tol=1e-50, max_iter=1000):\n",
    "    x = np.array([x0], dtype=np.float64)  # 使用 NumPy 数组\n",
    "    for n in range(max_iter):\n",
    "        y = x - (2/3) * f(x) / df(x)\n",
    "        \n",
    "        # 计算分子和分母\n",
    "        numerator = 59*df(x) - 39*df(y)\n",
    "        denominator = 30*df(x) - 18*df(y)\n",
    "        factor = numerator / denominator\n",
    "        update_term = f(x) / (9*df(y) - 4*df(x))\n",
    "        \n",
    "        # 更新 x 的值\n",
    "        x_next = y - factor * update_term\n",
    "        \n",
    "        # 检查是否满足收敛条件\n",
    "        if np.abs(x_next - x) < tol:\n",
    "            return x_next[0], n+1  # 返回近似根和迭代次数\n",
    "        \n",
    "        x = x_next\n",
    "    \n",
    "    return x[0], max_iter  # 如果达到最大迭代次数还未收敛，则返回最后一次的 x 值和迭代次数\n",
    "\n",
    "# 使用一个初始猜测值调用 zm2 函数\n",
    "initial_guess = 0.5  # 初始猜测值\n",
    "root, iterations = zm2(f1, df1, initial_guess)\n",
    "print(f\"Root: {root}, found in {iterations} iterations\")"
   ]
  },
  {
   "cell_type": "code",
   "execution_count": 12,
   "metadata": {},
   "outputs": [
    {
     "name": "stdout",
     "output_type": "stream",
     "text": [
      "Root: 0.7390851332151607, found in 5 iterations\n"
     ]
    }
   ],
   "source": [
    "import numpy as np\n",
    "\n",
    "# 定义非线性方程 f1(x)\n",
    "def f1(x):\n",
    "    return np.cos(x) - x\n",
    "\n",
    "# 定义非线性方程 f1(x) 的导数 f1'(x)\n",
    "def df1(x):\n",
    "    return -np.sin(x) - 1\n",
    "\n",
    "# ZM3 方法的迭代函数\n",
    "def zm3(f, df, x0, tol=1e-50, max_iter=1000):\n",
    "    x = np.array([x0], dtype=np.float64)  # 使用 NumPy 数组\n",
    "    for n in range(max_iter):\n",
    "        # 计算 yn\n",
    "        y = x - (2/3) * f(x) / df(x)\n",
    "        \n",
    "        # 更新 x 的值\n",
    "        x_next = y - f(x) / (df(x) + 2*df(y))\n",
    "        \n",
    "        # 检查是否满足收敛条件\n",
    "        if np.abs(x_next - x) < tol:\n",
    "            return x_next[0], n+1  # 返回近似根和迭代次数\n",
    "        \n",
    "        x = x_next\n",
    "    \n",
    "    return x[0], max_iter  # 如果达到最大迭代次数还未收敛，则返回最后一次的 x 值和迭代次数\n",
    "\n",
    "# 使用一个初始猜测值调用 zm3 函数\n",
    "initial_guess = 0.5  # 初始猜测值\n",
    "root, iterations = zm3(f1, df1, initial_guess)\n",
    "print(f\"Root: {root}, found in {iterations} iterations\")"
   ]
  },
  {
   "cell_type": "code",
   "execution_count": 14,
   "metadata": {},
   "outputs": [
    {
     "name": "stdout",
     "output_type": "stream",
     "text": [
      "Converged after 7 iterations.\n",
      "Optimized point: [ 1.14686458e-05 -4.64925749e-07]\n"
     ]
    }
   ],
   "source": [
    "import numpy as np\n",
    "\n",
    "def line_search(f, grad_f, x, p, c1=1e-4, c2=0.9):\n",
    "    \"\"\" 使用弱Wolfe-Powell条件的线搜索 \"\"\"\n",
    "    alpha = 1.0\n",
    "    phi_0 = f(x)\n",
    "    dphi_0 = np.dot(grad_f(x), p)\n",
    "\n",
    "    while True:\n",
    "        phi_alpha = f(x + alpha * p)\n",
    "        if (phi_alpha > phi_0 + c1 * alpha * dphi_0) or \\\n",
    "           (alpha > 0 and phi_alpha >= phi_0):\n",
    "            alpha = 0.5 * alpha\n",
    "        else:\n",
    "            dphi_alpha = np.dot(grad_f(x + alpha * p), p)\n",
    "            if abs(dphi_alpha) <= -c2 * dphi_0:\n",
    "                break\n",
    "            if dphi_alpha >= 0:\n",
    "                alpha = 0.5 * alpha\n",
    "            else:\n",
    "                alpha = 2 * alpha\n",
    "    return alpha\n",
    "\n",
    "def classical_broyden(f, grad_f, x0, max_iter=1000, tol=1e-5):\n",
    "    n = len(x0)\n",
    "    x = np.array(x0, dtype=float)\n",
    "    B = np.eye(n)  # 初始Hessian近似为单位矩阵\n",
    "    g = grad_f(x)\n",
    "    \n",
    "    for k in range(max_iter):\n",
    "        # 计算搜索方向\n",
    "        p = -np.linalg.solve(B, g)\n",
    "        \n",
    "        # 线搜索找到步长alpha\n",
    "        alpha = line_search(f, grad_f, x, p)\n",
    "        \n",
    "        # 更新x\n",
    "        x_new = x + alpha * p\n",
    "        g_new = grad_f(x_new)\n",
    "        \n",
    "        # 更新B\n",
    "        s = x_new - x\n",
    "        y = g_new - g\n",
    "        if np.dot(s, y) > 0:  # 检查y^T s > 0\n",
    "            B = B + (np.outer(y, y) / np.dot(y, s)) - (np.outer(B @ s, B @ s) / np.dot(s, B @ s))\n",
    "        \n",
    "        # 检查收敛条件\n",
    "        if np.linalg.norm(g_new) < tol:\n",
    "            print(\"Converged after\", k+1, \"iterations.\")\n",
    "            break\n",
    "        \n",
    "        # 更新变量\n",
    "        x, g = x_new, g_new\n",
    "    else:\n",
    "        print(\"Did not converge within the maximum number of iterations.\")\n",
    "    \n",
    "    return x\n",
    "\n",
    "# 示例使用\n",
    "def quadratic(x):\n",
    "    return x[0]**2 + 2*x[1]**2\n",
    "\n",
    "def grad_quadratic(x):\n",
    "    return np.array([2*x[0], 4*x[1]])\n",
    "\n",
    "# 初始点\n",
    "x0 = [1.0, 1.0]\n",
    "# 调用优化算法\n",
    "result = classical_broyden(quadratic, grad_quadratic, x0)\n",
    "print(\"Optimized point:\", result)"
   ]
  },
  {
   "cell_type": "code",
   "execution_count": null,
   "metadata": {},
   "outputs": [],
   "source": []
  },
  {
   "cell_type": "code",
   "execution_count": null,
   "metadata": {},
   "outputs": [],
   "source": []
  },
  {
   "cell_type": "markdown",
   "metadata": {},
   "source": [
    "**Extended Freudenstein & Roth function:**\n",
    "\n",
    "$$f(x) = \\sum_{i=1}^{n/2}\\Big(-13+x_{2i-1}+\\big((5-x_{2i})x_{2i}-2\\big)x_{2i}\\Big)^2$$\n",
    "\n",
    "$$+\\Big(-29+x_{2i-1}+\\big((x_{2i}+1)x_{2i}-14\\big)x_{2i}\\Big)^2,$$\n",
    "\n",
    "$$x_0=[0.5,-2,0.5,-2,...,0.5,-2].$$"
   ]
  },
  {
   "cell_type": "markdown",
   "metadata": {},
   "source": [
    "**Extended Trigonometric Function:**\n",
    "\n",
    "$$f(x)=\\sum_{i=1}^n\\left(\\left(n-\\sum_{j=1}^n\\cos x_j\\right)+i(1-\\cos x_i)-\\sin x_i\\right)^{2},$$\n",
    "\n",
    "$$x_0=[0.2, 0.2, ..., 0.2].$$"
   ]
  },
  {
   "cell_type": "markdown",
   "metadata": {},
   "source": [
    "**Extended Rosenbrock Function:**\n",
    "\n",
    "$$f(x) = \\sum_{i=1}^{n/2} c \\left( (x_{2i} - x_{2i-1}^2)^2 + (1 - x_{2i-1})^2 \\right),$$\n",
    "\n",
    "where \\(c = 100\\) and the initial point is given by:\n",
    "\n",
    "$$x_0 = [-1.2, 1, \\dots, -1.2, 1].$$"
   ]
  },
  {
   "cell_type": "markdown",
   "metadata": {},
   "source": [
    "**Generalized Rosenbrock Function:**\n",
    "\n",
    "$$f(x) = \\sum_{i=1}^{n-1} c \\left( (x_{i+1} - x_i^2)^2 + (1 - x_i)^2 \\right),$$\n",
    "\n",
    "with $c = 100$ and the starting point is:\n",
    "\n",
    "$$x_0 = [-1.2, 1, \\dots, -1.2, 1],$$"
   ]
  },
  {
   "cell_type": "markdown",
   "metadata": {},
   "source": [
    "**Extended White & Holst Function:**\n",
    "\n",
    "$$f(x) = \\sum_{i=1}^{n/2} c \\left( (x_{2i} - x_{2i-1}^3)^2 + (1 - x_{2i-1})^2 \\right),$$\n",
    "\n",
    "with $c = 100$ and the starting point is:\n",
    "\n",
    "$$x_0 = [-1.2, 1, \\dots, -1.2, 1],$$"
   ]
  },
  {
   "cell_type": "markdown",
   "metadata": {},
   "source": [
    "**Extended Beale function:**\n",
    "\n",
    "$$f(x) = \\sum_{i=1}^{n/2} \\left( 1.5 - x_{2i-1}(1 - x_{2i}) \\right)^2 + \\left( 2.25 - x_{2i-1}(1 - x_{2i}^2) \\right)^2$$\n",
    "$$+ \\left( 2.625 - x_{2i-1}(1 - x_{2i}^3) \\right)^2,$$\n",
    "$$x_0 = [1, 0.8, \\dots, 1, 0.8].$$"
   ]
  },
  {
   "cell_type": "markdown",
   "metadata": {},
   "source": [
    "**Extended Penalty function:**\n",
    "\n",
    "$$f(x) = \\sum_{i=1}^{n-1} \\left( x_i - 1 \\right)^2 + \\left( \\sum_{j=i}^{n} x_j^2 - 0.25 \\right)^2,$$\n",
    "$$x_0 = [1, 2, \\dots, n].$$"
   ]
  },
  {
   "cell_type": "markdown",
   "metadata": {},
   "source": [
    "**Perturbed Quadratic function:**\n",
    "\n",
    "$$f(x) = \\sum_{i=1}^{n} i x_i^2 + \\frac{1}{100} \\left( \\sum_{i=1}^{n} x_i \\right)^2,$$\n",
    "$$x_0 = [0.5, 0.5, \\dots, 0.5].$$"
   ]
  },
  {
   "cell_type": "markdown",
   "metadata": {},
   "source": [
    "**Raydan 1 function:**\n",
    "\n",
    "$$f(x) = \\sum_{i=1}^{n} \\frac{i}{10} (\\exp(x_i) - x_i),$$\n",
    "$$x_0 = [1, 1, \\dots, 1].$$"
   ]
  },
  {
   "cell_type": "markdown",
   "metadata": {},
   "source": [
    "**Raydan 2 function:**\n",
    "\n",
    "$$\n",
    "f(x) = \\sum_{i=1}^{n} \\left( \\exp(x_i) - x_i \\right),\n",
    "\\qquad x_0 = [1, 1, \\ldots, 1].\n",
    "$$"
   ]
  },
  {
   "cell_type": "markdown",
   "metadata": {},
   "source": [
    "**Diagonal 1 function:**\n",
    "\n",
    "$$f(x) = \\sum_{i=1}^{n} \\left( \\exp(x_i) - ix_i \\right),$$\n",
    "$$x_0 = [1/n, 1/n, \\dots, 1/n].$$"
   ]
  },
  {
   "cell_type": "markdown",
   "metadata": {},
   "source": [
    "**Diagonal 2 function:**\n",
    "\n",
    "$$f(x) = \\sum_{i=1}^{n} \\left( \\exp(x_i) - \\frac{x_i}{i} \\right),$$\n",
    "$$x_0 = [1/1, 1/2, \\dots, 1/n].$$"
   ]
  },
  {
   "cell_type": "markdown",
   "metadata": {},
   "source": [
    "## Diagonal 3 function:\n",
    "$$f(x) = \\sum_{i=1}^{n} \\left( \\exp(x_i) - i \\sin(x_i) \\right), \\quad x_0 = [1, 1, \\dots, 1]$$"
   ]
  },
  {
   "cell_type": "markdown",
   "metadata": {},
   "source": [
    "## Hager function:\n",
    "$$f(x) = \\sum_{i=1}^{n} \\left( \\exp(x_i) - \\sqrt{i} x_i \\right), \\quad x_0 = [1, 1, \\dots, 1]$$"
   ]
  },
  {
   "cell_type": "markdown",
   "metadata": {},
   "source": [
    "## Generalized Tri-diagonal 1 function:\n",
    "$$f(x) = \\sum_{i=1}^{n-1} \\left( x_i + x_{i+1} - 3 \\right)^2 + \\left( x_i - x_{i+1} + 1 \\right)^4, \\quad x_0 = [2, 2, \\dots, 2]$$"
   ]
  },
  {
   "cell_type": "markdown",
   "metadata": {},
   "source": [
    "## Extended Tri-diagonal 1 function:\n",
    "$$f(x) = \\sum_{i=1}^{n/2} \\left( x_{2i-1} + x_{2i} - 3 \\right)^2 + \\left( x_{2i-1} - x_{2i} + 1 \\right)^4, \\quad x_0 = [2, 2, \\dots, 2]$$"
   ]
  },
  {
   "cell_type": "markdown",
   "metadata": {},
   "source": [
    "## Extended TET function : (Three exponential terms)\n",
    "$$f(x) = \\sum_{i=1}^{n/2} \\left( \\exp(x_{2i-1} + 3x_{2i} - 0.1) + \\exp(x_{2i-1} - 3x_{2i} - 0.1) + \\exp(-x_{2i-1} - 0.1) \\right),$$\n",
    "\n",
    "$$\\quad x_0 = [0.1, 0.1, \\dots, 0.1]$$"
   ]
  },
  {
   "cell_type": "markdown",
   "metadata": {},
   "source": [
    "## Generalized Tri-diagonal 2 function:\n",
    "$$\n",
    "f(x) = \\left((5 - 3x_1 - x_1^2)x_1 - 3x_2 + 1\\right)^2 +  $$\n",
    "$$     \\sum_{i=1}^{n-1} \\left((5 - 3x_i - x_i^2)x_i - x_{i-1} - 3x_{i+1} + 1\\right)^2 +\n",
    "       \\left((5 - 3x_n - x_n^2)x_n - x_{n-1} + 1\\right)^2,\n",
    "$$\n",
    "$$\n",
    "x_0 = [-1, -1, \\dots, -1].\n",
    "$$"
   ]
  },
  {
   "cell_type": "markdown",
   "metadata": {},
   "source": [
    "## Diagonal 4 function:\n",
    "$$f(x) = \\sum_{i=1}^{n/2} \\frac{1}{2} \\left( x_{2i-1}^2 + cx_{2i}^2 \\right), \\quad x_0 = [1, 1, \\dots, 1], \\quad c = 100$$"
   ]
  },
  {
   "cell_type": "markdown",
   "metadata": {},
   "source": [
    "## Diagonal 5 function:\n",
    "$$f(x) = \\sum_{i=1}^{n} \\log \\left( \\exp(x_i) + \\exp(-x_i) \\right), \\quad x_0 = [1.1, 1.1, \\dots, 1.1]$$"
   ]
  },
  {
   "cell_type": "markdown",
   "metadata": {},
   "source": [
    "## Extended Himmeblau function:\n",
    "$$f(x) = \\sum_{i=1}^{n/2} \\left( x_{2i-1}^2 + x_{2i} - 11 \\right)^2 + \\left( x_{2i-1} + x_{2i}^2 - 7 \\right)^2, \\quad x_0 = [1, 1, \\dots, 1]$$"
   ]
  },
  {
   "cell_type": "markdown",
   "metadata": {},
   "source": [
    "##  Generalized White & Holst function:\n",
    "$$\n",
    "f(x) = \\sum_{i=1}^{n-1} c \\left( x_{i+1} - x_i^3 \\right)^2 + \\left( 1 - x_i \\right)^2,\n",
    "\\qquad x_0 = [-1.2, 1, \\ldots, -1.2, 1],\n",
    "\\qquad c = 100.\n",
    "$$"
   ]
  },
  {
   "cell_type": "markdown",
   "metadata": {},
   "source": [
    "##  Generalized PSC1 function:\n",
    "$$\n",
    "f(x) = \\sum_{i=1}^{n-1} \\left( x_i^2 + x_{i+1}^2 + x_i x_{i+1} \\right)^2 + \\sin^2(x_i) + \\cos^2(x_i),\n",
    "\\qquad x_0 = [3, 0.1, \\ldots, 3, 0.1].\n",
    "$$"
   ]
  },
  {
   "cell_type": "markdown",
   "metadata": {},
   "source": [
    "##  Extended PSC1 function:\n",
    "$$\n",
    "f(x) = \\sum_{i=1}^{n/2} \\left( x_{2i-1}^2 + x_{2i}^2 + x_{2i-1} x_{2i} \\right)^2 + \\sin^2(x_{2i-1}) + \\cos^2(x_{2i}),\n",
    "\\qquad x_0 = [3, 0.1, \\ldots, 3, 0.1].\n",
    "$$"
   ]
  },
  {
   "cell_type": "markdown",
   "metadata": {},
   "source": [
    "##  Extended Powell function:\n",
    "$$\n",
    "f(x) = \\sum_{i=1}^{n/4} \\left( x_{4i-3} + 10 x_{4i-2} \\right)^2 + 5 \\left( x_{4i-1} - x_{4i} \\right)^2 +\n",
    "       $$\n",
    "$$\n",
    "       \\left( x_{4i-2} - 2 x_{4i-1} \\right)^4 + 10 \\left( x_{4i-3} - x_{4i} \\right)^4,\n",
    "$$\n",
    "$$\n",
    "\\qquad x_0 = [3, -1, 0, 1, \\ldots, 3, -1, 0, 1].\n",
    "$$"
   ]
  },
  {
   "cell_type": "markdown",
   "metadata": {},
   "source": [
    "##  Full Hessian FH1 function:\n",
    "$$\n",
    "f(x) = (x_1 - 3)^2 + \\sum_{i=2}^{n} \\left( x_1 - 3 - 2 (x_1 + x_2 + \\cdots + x_i)^2 \\right)^2,\n",
    "\\qquad x_0 = [0.01, 0.01, \\ldots, 0.01].\n",
    "$$"
   ]
  },
  {
   "cell_type": "markdown",
   "metadata": {},
   "source": [
    "##  Full Hessian FH2 function:\n",
    "$$\n",
    "f(x) = (x_1 - 5)^2 + \\sum_{i=2}^{n} \\left( x_1 + x_2 + \\cdots + x_i - 1 \\right)^2,\n",
    "\\qquad x_0 = [0.01, 0.01, \\ldots, 0.01].\n",
    "$$"
   ]
  },
  {
   "cell_type": "markdown",
   "metadata": {},
   "source": [
    "##  Extended BD1 function (Block Diagonal):\n",
    "$$\n",
    "f(x) = \\sum_{i=1}^{n/2} \\left( x_{2i-1}^2 + x_{2i}^2 - 2 \\right)^2 + \\left( \\exp(x_{2i-1} - 1) - x_{2i} \\right)^2,\n",
    "\\qquad x_0 = [0.1, 0.1, \\ldots, 0.1].\n",
    "$$"
   ]
  },
  {
   "cell_type": "markdown",
   "metadata": {},
   "source": [
    "##  Extended Maratos function:\n",
    "$$\n",
    "f(x) = \\sum_{i=1}^{n/2} x_{2i-1} + c \\left( x_{2i-1}^2 + x_{2i}^2 - 1 \\right)^2,\n",
    "\\qquad x_0 = [1.1, 0.1, \\ldots, 1.1, 0.1],\n",
    "\\qquad c = 100.\n",
    "$$"
   ]
  },
  {
   "cell_type": "markdown",
   "metadata": {},
   "source": [
    "##  Extended Cliff function:\n",
    "$$\n",
    "f(x) = \\sum_{i=1}^{n/2} \\left( \\frac{x_{2i-1} - 3}{100} \\right)^2 - (x_{2i-1} - x_{2i}) + \\exp(20(x_{2i-1} - x_{2i})),\n",
    "$$\n",
    "$$\n",
    "x_0 = [0, -1, \\dots, 0, -1].\n",
    "$$"
   ]
  },
  {
   "cell_type": "markdown",
   "metadata": {},
   "source": [
    "##  Perturbed quadratic diagonal function:\n",
    "$$\n",
    "f(x) = \\left( \\sum_{i=1}^{n} x_i \\right)^2 + \\sum_{i=1}^{n} \\frac{i}{100} x_i^2, \\quad x_0 = [0.5, 0.5, \\ldots, 0.5].\n",
    "$$"
   ]
  },
  {
   "cell_type": "markdown",
   "metadata": {},
   "source": [
    "##  Extended Wood function:\n",
    "$$\n",
    "f(x) = \\sum_{i=1}^{n/4} 100 \\left( x_{4i-3}^2 - x_{4i-2} \\right)^2 + \\left( x_{4i-3} - 1 \\right)^2 + 90 \\left( x_{4i-1}^2 - x_{4i} \\right)^2 + \\\\\n",
    "\\left(1 - x_{4i-1}\\right)^2 + 10.1 \\left[ \\left( x_{4i-2} - 1 \\right)^2 + \\left( x_{4i} - 1 \\right)^2 \\right] + 19.8 \\left( x_{4i-2} - 1 \\right) \\left( x_{4i} - 1 \\right), \\\\\n",
    "x_0 = [-3, -1, -3, -1, \\ldots, -3, -1, -3, -1].\n",
    "$$"
   ]
  },
  {
   "cell_type": "markdown",
   "metadata": {},
   "source": [
    "##  Extended Hiebert function:\n",
    "$$\n",
    "f(x) = \\sum_{i=1}^{n/2} \\left( x_{2i-1} - 10 \\right)^2 + \\left( x_{2i-1} x_{2i} - 50000 \\right)^2, \\quad x_0 = [0, 0, \\ldots, 0].\n",
    "$$"
   ]
  },
  {
   "cell_type": "markdown",
   "metadata": {},
   "source": [
    "##  Quadratic QF1 function:\n",
    "$$\n",
    "f(x) = \\frac{1}{2} \\sum_{i=1}^{n} i x_i^2 - x_n, \\quad x_0 = [1, 1, \\ldots, 1].\n",
    "$$"
   ]
  },
  {
   "cell_type": "markdown",
   "metadata": {},
   "source": [
    "##  Extended quadratic penalty QP1 function:\n",
    "$$\n",
    "f(x) = \\sum_{i=1}^{n-1} \\left( x_i^2 - 2 \\right)^2 + \\left( \\sum_{i=1}^{n} x_i^2 - 0.5 \\right)^2, \\quad x_0 = [1, 1, \\ldots, 1].\n",
    "$$"
   ]
  },
  {
   "cell_type": "markdown",
   "metadata": {},
   "source": [
    "##  Extended quadratic penalty QP2 function:\n",
    "$$\n",
    "f(x) = \\sum_{i=1}^{n-1} \\left( x_i^2 - \\sin{x_{i}} \\right)^2 + \\left( \\sum_{i=1}^{n} x_i^2 - 100 \\right)^2, \\quad x_0 = [1, 1, \\ldots, 1].\n",
    "$$"
   ]
  },
  {
   "cell_type": "markdown",
   "metadata": {},
   "source": [
    "##  Quadratic QF2 function:\n",
    "$$\n",
    "f(x) = \\frac{1}{2} \\sum_{i=1}^{n} i \\left( x_i^2 - 1 \\right)^2 - x_n, \\quad x_0 = [0.5, 0.5, \\ldots, 0.5].\n",
    "$$"
   ]
  },
  {
   "cell_type": "markdown",
   "metadata": {},
   "source": [
    "##  Extended quadratic exponential EP1 function:\n",
    "$$\n",
    "f(x) = \\sum_{i=1}^{n/2} \\left( \\exp(x_{2i-1} - x_{2i}) - 5 \\right)^2 + \\left( x_{2i-1} - x_{2i} \\right)^{2} \\left( x_{2i-1} - x_{2i} - 11 \\right)^2, \\\\\n",
    "x_0 = [1.5, 1.5, \\ldots, 1.5].\n",
    "$$"
   ]
  },
  {
   "cell_type": "markdown",
   "metadata": {},
   "source": [
    "##  Extended Tridiagonal 2 function:\n",
    "$$\n",
    "f(x) = \\sum_{i=1}^{n-1} \\left( x_i x_{i+1} - 1 \\right)^2 + c \\left( x_i + 1 \\right) \\left( x_{i+1} + 1 \\right), \\quad x_0 = [1., 1., \\ldots, 1.], \\quad c = 0.1.\n",
    "$$"
   ]
  },
  {
   "cell_type": "markdown",
   "metadata": {},
   "source": [
    "## FLETCBV3 function (CUTE)\n",
    "\n",
    "$$\n",
    "f(x) = \\frac{1}{2} p \\left( x_1^2 + x_n^2 \\right) + \\sum_{i=1}^{n-1} \\frac{p}{2} \\left( x_i - x_{i+1} \\right)^2 - \\sum_{i=1}^{n} \\left( \\frac{p(h^2 + 2)}{h^2} x_i + \\frac{c p}{h^2} \\cos(x_i) \\right),\n",
    "$$\n",
    "\n",
    "where:\n",
    "$$\n",
    "p = 1 / 10^8, \\quad h = 1 / (n + 1), \\quad c = 1, \\quad x_0 = [h, 2h, \\ldots, nh].\n",
    "$$"
   ]
  },
  {
   "cell_type": "markdown",
   "metadata": {},
   "source": [
    "## FLETCHCR function (CUTE)\n",
    "\n",
    "$$\n",
    "f(x) = \\sum_{i=1}^{n-1} c \\left( x_{i+1} - x_i + 1 - x_i^2 \\right)^2,\n",
    "$$\n",
    "\n",
    "$$\n",
    "x_0 = [0., 0., \\ldots, 0.], \\quad c = 100.\n",
    "$$"
   ]
  },
  {
   "cell_type": "markdown",
   "metadata": {},
   "source": [
    "## BDQRTIC function (CUTE)\n",
    "\n",
    "$$\n",
    "f(x) = \\sum_{i=1}^{n-4} \\left( -4 x_i + 3 \\right)^2 + \\left( x_i^2 + 2 x_{i+1}^2 + 3 x_{i+2}^2 + 4 x_{i+3}^2 + 5 x_n^2 \\right)^2,\n",
    "$$\n",
    "\n",
    "$$\n",
    "x_0 = [1., 1., \\ldots, 1.].\n",
    "$$"
   ]
  },
  {
   "cell_type": "markdown",
   "metadata": {},
   "source": [
    "## TRIDIA function (CUTE)\n",
    "\n",
    "$$\n",
    "f(x) = \\gamma \\left( \\delta x_1 - 1 \\right)^2 + \\sum_{i=2}^{n} i \\left( \\alpha x_i - \\beta x_{i-1} \\right)^2,\n",
    "$$\n",
    "\n",
    "$$\n",
    "\\alpha = 2, \\quad \\beta = 1, \\quad \\gamma = 1, \\quad \\delta = 1, \\quad x_0 = [1, 1, \\ldots, 1].\n",
    "$$"
   ]
  },
  {
   "cell_type": "markdown",
   "metadata": {},
   "source": [
    "## ARGLINB function (CUTE)\n",
    "\n",
    "$$\n",
    "f(x) = \\sum_{i=1}^{m} \\left( \\sum_{j=1}^{n} ij x_j - 1 \\right)^2,\n",
    "$$\n",
    "\n",
    "$$\n",
    "x_0 = [1, 1, \\ldots, 1].\n",
    "$$"
   ]
  },
  {
   "cell_type": "markdown",
   "metadata": {},
   "source": [
    "## ARWHEAD function (CUTE)\n",
    "\n",
    "$$\n",
    "f(x) = \\sum_{i=1}^{n-1} \\left( -4 x_i + 3 \\right) + \\sum_{i=1}^{n-1} \\left( x_i^2 + x_n^2 \\right)^2,\n",
    "$$\n",
    "\n",
    "$$\n",
    "x_0 = [1., 1., \\ldots, 1.].\n",
    "$$"
   ]
  },
  {
   "cell_type": "markdown",
   "metadata": {},
   "source": [
    "## NONDIA function (CUTE)\n",
    "\n",
    "$$\n",
    "f(x) = (x_1 - 1)^2 + \\sum_{i=2}^{n} 100 \\left( x_1 - x_{i-1}^2 \\right)^2,\n",
    "$$\n",
    "\n",
    "$$\n",
    "x_0 = [-1., -1., \\ldots, -1.].\n",
    "$$"
   ]
  },
  {
   "cell_type": "markdown",
   "metadata": {},
   "source": [
    "## NONDQUAR function (CUTE)\n",
    "\n",
    "$$\n",
    "f(x) = (x_1 - x_2)^2 + \\sum_{i=1}^{n-2} \\left( x_i + x_{i+1} + x_n \\right)^4 + (x_{n-1} + x_n)^2,\n",
    "$$\n",
    "\n",
    "$$\n",
    "x_0 = [1., -1., \\ldots, 1., -1.].\n",
    "$$"
   ]
  },
  {
   "cell_type": "markdown",
   "metadata": {},
   "source": [
    "## DQDRTIC function (CUTE)\n",
    "\n",
    "$$\n",
    "f(x) = \\sum_{i=1}^{n-2} \\left( x_i^2 + cx_{i+1}^2 + dx_{i+2}^2 \\right),\n",
    "$$\n",
    "\n",
    "$$\n",
    "c = 100., \\quad d = 100., \\quad x_0 = [3., 3., \\ldots, 3.]."
   ]
  },
  {
   "cell_type": "markdown",
   "metadata": {},
   "source": [
    "## EG2 function (CUTE):\n",
    "$$\n",
    "f(x) = \\sum_{i=1}^{n-1} \\sin(x_1 + x_i^2 - 1) + \\frac{1}{2} \\sin(x_n^2), \\quad x_0 = [1, 1, \\dots, 1]\n",
    "$$"
   ]
  },
  {
   "cell_type": "markdown",
   "metadata": {},
   "source": [
    "## CURLY20 function (CUTE):\n",
    "$$\n",
    "f(x) = \\sum_{i=1}^n q_i^4 - 20q_i^2 - 0.1q_i,\n",
    "$$\n",
    "where:\n",
    "$$\n",
    "q_i =\n",
    "\\begin{cases}\n",
    "x_i + x_{i+1} + \\cdots + x_{i+k}, & i \\leq n-k, \\\\\n",
    "x_i + x_{i+1} + \\cdots + x_n, & i > n-k,\n",
    "\\end{cases}\n",
    "k = 20,\n",
    "$$\n",
    "$$\n",
    "x_0 = [0.001 / (n+1), \\dots, 0.001 / (n+1)]\n",
    "$$"
   ]
  },
  {
   "cell_type": "markdown",
   "metadata": {},
   "source": [
    "## DIXMAANA - DIXMAANL functions:\n",
    "$$\n",
    "f(x) = 1 + \\sum_{i=1}^n \\alpha x_i^2 \\left(\\frac{i}{n}\\right)^{k1} + \\sum_{i=1}^{n-1} \\beta x_i^2 \\left(x_{i+1} + x_{i+1}^2\\right)^2 \\left(\\frac{i}{n}\\right)^{k2} +\n",
    "$$\n",
    "$$\n",
    "\\sum_{i=1}^{2m} \\gamma x_i^2 x_{i+m}^4 \\left(\\frac{i}{n}\\right)^{k3} + \\sum_{i=1}^m \\delta x_i x_{i+2m} \\left(\\frac{i}{n}\\right)^{k4},\n",
    "$$\n",
    "$$\n",
    "m = n / 3,\n",
    "$$\n",
    "\n",
    "| $\\alpha$ | $\\beta$ | $\\gamma$ | $\\delta$ | k1 | k2 | k3 | k4 |\n",
    "| --- | --- | --- | --- | --- | --- | --- | --- |\n",
    "| A | 1 | 0 | 0.125 | 0.125 | 0 | 0 | 0 | 0 |\n",
    "| B | 1 | 0.0625 | 0.0625 | 0.0625 | 0 | 0 | 0 | 1 |\n",
    "| C | 1 | 0.125 | 0.125 | 0.125 | 0 | 0 | 0 | 0 |\n",
    "| D | 1 | 0.26 | 0.26 | 0.26 | 0 | 0 | 0 | 0 |\n",
    "| E | 1 | 0 | 0.125 | 0.125 | 1 | 0 | 0 | 1 |\n",
    "| F | 1 | 0.0625 | 0.0625 | 0.0625 | 1 | 0 | 0 | 1 |\n",
    "| G | 1 | 0.125 | 0.125 | 0.125 | 1 | 0 | 0 | 1 |\n",
    "| H | 1 | 0.26 | 0.26 | 0.26 | 1 | 0 | 0 | 1 |\n",
    "| I | 1 | 0 | 0.125 | 0.125 | 2 | 0 | 0 | 2 |\n",
    "| J | 1 | 0.0625 | 0.0625 | 0.0625 | 2 | 0 | 0 | 2 |\n",
    "| K | 1 | 0.125 | 0.125 | 0.125 | 2 | 0 | 0 | 2 |\n",
    "| L | 1 | 0.26 | 0.26 | 0.26 | 2 | 0 | 0 | 2 |\n",
    "\n",
    "$$\n",
    "x_0 = [2, 2, \\dots, 2]\n",
    "$$"
   ]
  },
  {
   "cell_type": "markdown",
   "metadata": {},
   "source": [
    "## Partial Perturbed Quadratic function:\n",
    "$$\n",
    "f(x) = x_1^2 + \\sum_{i=1}^n \\left(ix_i^2 + \\frac{1}{100}(x_1 + x_2 + \\cdots + x_i)^2\\right), \\quad x_0 = [0.5, 0.5, \\dots, 0.5]\n",
    "$$"
   ]
  },
  {
   "cell_type": "markdown",
   "metadata": {},
   "source": [
    "##  Broyden Tridiagonal function:\n",
    "\n",
    "$$\n",
    "f(x) = (3x_1 - 2x_1^2)^2 + \\sum_{i=2}^{n-1} (3x_i - 2x_i^2 - x_{i-1} - 2x_{i+1} + 1)^2 + (3x_n - 2x_n^2 - x_{n-1} + 1)^2,\n",
    "$$\n",
    "\n",
    "$$\n",
    "x_0 = [-1, -1, \\ldots, -1].\n",
    "$$"
   ]
  },
  {
   "cell_type": "markdown",
   "metadata": {},
   "source": [
    "##  Almost Perturbed Quadratic function:\n",
    "\n",
    "$$\n",
    "f(x) = \\sum_{i=1}^n ix_i^2 + \\frac{1}{100}(x_1 + x_n)^2,\n",
    "$$\n",
    "\n",
    "$$\n",
    "x_0 = [0.5, 0.5, \\ldots, 0.5].\n",
    "$$"
   ]
  },
  {
   "cell_type": "markdown",
   "metadata": {},
   "source": [
    "##  Perturbed Tridiagonal Quadratic function:\n",
    "\n",
    "$$\n",
    "f(x) = x_1^2 + \\sum_{i=2}^{n-1} ix_i^2 + (x_{i-1} + x_i + x_{i+1})^2,\n",
    "$$\n",
    "\n",
    "$$\n",
    "x_0 = [0.5, 0.5, \\ldots, 0.5].\n",
    "$$"
   ]
  },
  {
   "cell_type": "markdown",
   "metadata": {},
   "source": [
    "##  Staircase 1 function:\n",
    "\n",
    "$$\n",
    "f(x) = \\sum_{i=1}^n \\left( \\sum_{j=1}^i x_j \\right)^2,\n",
    "$$\n",
    "\n",
    "$$\n",
    "x_0 = [1, 1, \\ldots, 1].\n",
    "$$"
   ]
  },
  {
   "cell_type": "markdown",
   "metadata": {},
   "source": [
    "##  Staircase 2 function:\n",
    "\n",
    "$$\n",
    "f(x) = \\sum_{i=1}^n \\left[ \\left( \\sum_{j=1}^i x_j \\right) - i \\right]^2,\n",
    "$$\n",
    "\n",
    "$$\n",
    "x_0 = [0, 0, \\ldots, 0].\n",
    "$$"
   ]
  },
  {
   "cell_type": "markdown",
   "metadata": {},
   "source": [
    "##  LIARWHHD function (CUTE):\n",
    "\n",
    "$$\n",
    "f(x) = \\sum_{i=1}^n 4(-x_1 + x_i^2)^2 + \\sum_{i=1}^n (x_i - 1)^2,\n",
    "$$\n",
    "\n",
    "$$\n",
    "x_0 = [4, 4, \\ldots, 4].\n",
    "$$"
   ]
  },
  {
   "cell_type": "markdown",
   "metadata": {},
   "source": [
    "##  POWER function (CUTE):\n",
    "\n",
    "$$\n",
    "f(x) = \\sum_{i=1}^n (ix_i)^2,\n",
    "$$\n",
    "\n",
    "$$\n",
    "x_0 = [1, 1, \\ldots, 1].\n",
    "$$"
   ]
  },
  {
   "cell_type": "markdown",
   "metadata": {},
   "source": [
    "##  ENGVAL1 function (CUTE):\n",
    "\n",
    "$$\n",
    "f(x) = \\sum_{i=1}^{n-1} (x_i^2 + x_{i+1}^2)^2 + \\sum_{i=1}^{n-1} (-4x_i + 3),\n",
    "$$\n",
    "\n",
    "$$\n",
    "x_0 = [2, 2, \\ldots, 2].\n",
    "$$"
   ]
  },
  {
   "cell_type": "markdown",
   "metadata": {},
   "source": [
    "##  CRAGGLVY function (CUTE):\n",
    "$$ f(x) = \\sum_{i=1}^{m}\\left(\\exp(x_{2i-1}) - x_{2i}\\right)^4 + 100\\left(x_{2i} - x_{2i+1}\\right)^6 + $$\n",
    "$$ \\left(\\tan(x_{2i+1} - x_{2i+2}) + x_{2i+1} - x_{2i+2}\\right)^4 + x_{2i-1}^8 + \\left(x_{2i+2} - 1\\right)^2, $$\n",
    "$$ x_0 = [1, 2, \\ldots, 2]. $$"
   ]
  },
  {
   "cell_type": "markdown",
   "metadata": {},
   "source": [
    "## EDENSCH function (CUTE):\n",
    "$$\n",
    "f(x) = 16 + \\sum_{i=1}^{n-1}[(x_i - 2)^4 + (x_i x_{i+1} - 2x_{i+1})^2 + (x_{i+1} + 1)^2],\n",
    "$$\n",
    "$$\n",
    "x_0 = [0, 0, \\ldots, 0].\n",
    "$$"
   ]
  },
  {
   "cell_type": "markdown",
   "metadata": {},
   "source": [
    "## INDEF function (CUTE):\n",
    "$$\n",
    "f(x) = \\sum_{i=1}^n x_i + \\sum_{i=2}^{n-1} \\frac{1}{2} \\cos(2x_i - x_n - x_1),\n",
    "$$\n",
    "$$\n",
    "x_0 = \\left[\\frac{1}{n+1}, \\frac{2}{n+1}, \\ldots, \\frac{n}{n+1}\\right].\n",
    "$$"
   ]
  },
  {
   "cell_type": "markdown",
   "metadata": {},
   "source": [
    "## CUBE function (CUTE):\n",
    "$$\n",
    "f(x) = (x_1 - 1)^2 + \\sum_{i=2}^n 100(x_i - x_{i-1}^3)^2,\n",
    "$$\n",
    "$$\n",
    "x_0 = [-1.2, 1, -1.2, 1, \\ldots, -1.2, 1].\n",
    "$$"
   ]
  },
  {
   "cell_type": "markdown",
   "metadata": {},
   "source": [
    "## EXPLIN1 function (CUTE):\n",
    "$$\n",
    "f(x) = \\exp(0.1x_i x_{i+1}) - 10\\sum_{i=1}^n (ix_i),\n",
    "$$\n",
    "$$\n",
    "x_0 = [0, 0, \\ldots, 0].\n",
    "$$"
   ]
  },
  {
   "cell_type": "markdown",
   "metadata": {},
   "source": [
    "## EXPLIN2 function (CUTE):\n",
    "$$\n",
    "f(x) = \\sum_{i=1}^m \\exp\\left(\\frac{ix_i x_{i+1}}{10m}\\right) - 10\\sum_{i=1}^n (ix_i),\n",
    "$$\n",
    "$$\n",
    "x_0 = [0, 0, \\ldots, 0].\n",
    "$$"
   ]
  },
  {
   "cell_type": "markdown",
   "metadata": {},
   "source": [
    "## ARGLINC function (CUTE):\n",
    "$$\n",
    "f(x) = 2 + \\sum_{i=2}^{m-1} \\left(\\sum_{j=2}^{n-1} jx_j (i-1) - 1\\right)^2,\n",
    "$$\n",
    "$$\n",
    "x_0 = [1, 1, \\ldots, 1].\n",
    "$$"
   ]
  },
  {
   "cell_type": "markdown",
   "metadata": {},
   "source": [
    "## BDEXP function (CUTE):\n",
    "$$\n",
    "f(x) = \\sum_{i=1}^{n-2} \\left(x_i + x_{i+1}\\right) \\exp\\left(-x_{i+2} \\left(x_i + x_{i+1}\\right)\\right),\n",
    "$$\n",
    "$$\n",
    "x_0 = [1, 1, \\ldots, 1].\n",
    "$$"
   ]
  },
  {
   "cell_type": "markdown",
   "metadata": {},
   "source": [
    "## HARKERP2 function (CUTE):\n",
    "$$\n",
    "f(x) = \\left(\\sum_{i=1}^n x_i\\right)^2 - \\sum_{i=1}^n \\left(x_i + \\frac{1}{2} x_i^2\\right) + 2\\sum_{j=2}^n \\left(\\sum_{i=j}^n x_i\\right)^2,\n",
    "$$\n",
    "$$\n",
    "x_0 = [1, 2, \\ldots, n].\n",
    "$$"
   ]
  },
  {
   "cell_type": "markdown",
   "metadata": {},
   "source": [
    "## GENHUMPS function (CUTE):\n",
    "$$\n",
    "f(x) = \\sum_{i=1}^{n-1} \\sin(2x_i)^2 \\sin(2x_{i+1})^2 + 0.05(x_i^2 + x_{i+1}^2),\n",
    "$$\n",
    "$$\n",
    "x_0 = [-506, 506.2, \\ldots, 506.2].\n",
    "$$"
   ]
  },
  {
   "cell_type": "markdown",
   "metadata": {},
   "source": [
    "## MCCORMCK function (CUTE):\n",
    "$$\n",
    "f(x) = \\sum_{i=1}^{n-1} \\left(-1.5x_i + 2.5x_{i+1} + 1 + (x_i - x_{i+1})^2 + \\sin(x_i + x_{i+1})\\right),\n",
    "$$\n",
    "$$\n",
    "x_0 = [1, 1, \\ldots, 1].\n",
    "$$"
   ]
  },
  {
   "cell_type": "markdown",
   "metadata": {},
   "source": [
    "## NONSCOMPCOMP function (CUTE):\n",
    "$$\n",
    "f(x) = (x_1 - 1)^2 + \\sum_{i=2}^n 4(x_i - x_{i-1})^2, \\quad x_0 = [3, 3, \\ldots, 3].\n",
    "$$"
   ]
  },
  {
   "cell_type": "markdown",
   "metadata": {},
   "source": [
    "## VARDIM function (CUTE):\n",
    "$$\n",
    "f(x) = \\sum_{i=1}^n (x_i - 1)^2 + \\left( \\sum_{i=1}^n i x_i - \\frac{n(n+1)}{2} \\right)^2 + \\left( \\sum_{i=1}^n i x_i - \\frac{n(n+1)}{2} \\right)^4, $$\n",
    "$$\n",
    "\\quad x_0 = \\left[ 1 - \\frac{1}{n}, 1 - \\frac{2}{n}, \\ldots, 1 - \\frac{n}{n} \\right].\n",
    "$$"
   ]
  },
  {
   "cell_type": "markdown",
   "metadata": {},
   "source": [
    "## QUARTCTC function (CUTE):\n",
    "$$\n",
    "f(x) = \\sum_{i=1}^n (x_i - 1)^4, \\quad x_0 = [2, 2, \\ldots, 2].\n",
    "$$"
   ]
  },
  {
   "cell_type": "markdown",
   "metadata": {},
   "source": [
    "## Diagonal 6 function:\n",
    "$$\n",
    "f(x) = \\sum_{i=1}^n e^{x_i} - (1 - x_i), \\quad x_0 = [1, 1, \\ldots, 1].\n",
    "$$"
   ]
  },
  {
   "cell_type": "markdown",
   "metadata": {},
   "source": [
    "## SINQUAD function (CUTE):\n",
    "$$\n",
    "f(x) = (x_1 - 1)^4 + \\sum_{i=2}^{n-1} (\\sin(x_i - x_{n}) - x_1^2 + x_{i}^2)^2 + (x_n^2 - x_1^2)^2,$$\n",
    "$$ \\quad x_0 = [0.1, 0.1, \\ldots, 0.1].\n",
    "$$"
   ]
  },
  {
   "cell_type": "markdown",
   "metadata": {},
   "source": [
    "## Extended DENSCSCHNB function (CUTE):\n",
    "$$\n",
    "f(x) = \\sum_{i=1}^{n/2} \\left( x_{2i-1} - 2 \\right)^2 + \\left( x_{2i-1} - 2 \\right)^2 x_{2i}^2 + \\left( x_{2i} + 1 \\right)^2,\n",
    "\\quad x_0 = [1, 1, \\ldots, 1].\n",
    "$$"
   ]
  },
  {
   "cell_type": "markdown",
   "metadata": {},
   "source": [
    "## Extended DENSCSCHNF function (CUTE):\n",
    "$$\n",
    "f(x) = \\sum_{i=1}^{n/2} (2(x_{2i-1} + x_{2i}) + (x_{2i-1} - x_{2i})^2 - 8)^2 + (5x_{2i-1} + (x_{2i} - 3)^2 - 9)^2,$$\n",
    "$$ \\quad x_0 = [2, 0, 2, 0, \\ldots, 2, 0].\n",
    "$$"
   ]
  },
  {
   "cell_type": "markdown",
   "metadata": {},
   "source": [
    "## LIARWHD function (CUTE):\n",
    "$$\n",
    "f(x) = \\sum_{i=1}^n 4(x_i^2 - x_1)^2 + \\sum_{i=1}^n (x_i - 1)^2, \\quad x_0 = [4, 4, \\ldots, 4].\n",
    "$$"
   ]
  },
  {
   "cell_type": "markdown",
   "metadata": {},
   "source": [
    "## DIXON3DQ function (CUTE):\n",
    "$$\n",
    "f(x) = (x_1 - 1)^2 + \\sum_{j=1}^{n-1} (x_j - x_{j+1})^2 + (x_n - 1)^2, \\quad x_0 = [-1, -1, \\ldots, -1].\n",
    "$$"
   ]
  },
  {
   "cell_type": "markdown",
   "metadata": {},
   "source": [
    "## COSINE function (CUTE)\n",
    "\n",
    "$$\n",
    "f(x) = \\sum_{i=1}^{n-1} \\cos(-0.5x_{i+1} + x_i^2)\n",
    "$$\n",
    "\n",
    "$x_0 = [1, 1, ..., 1]$."
   ]
  },
  {
   "cell_type": "markdown",
   "metadata": {},
   "source": [
    "## SINE function\n",
    "\n",
    "$$\n",
    "f(x) = \\sum_{i=1}^{n-1} \\sin(-0.5x_{i+1} + x_i^2)\n",
    "$$\n",
    "\n",
    "$x_0 = [1, 1, ..., 1]$."
   ]
  },
  {
   "cell_type": "markdown",
   "metadata": {},
   "source": [
    "## BIGGSB1 function (CUTE)\n",
    "\n",
    "$$\n",
    "f(x) = (x_1 - 1)^2 + \\sum_{i=1}^{n-1} (x_{i+1} - x_i)^2 + (1 - x_n)^2\n",
    "$$\n",
    "\n",
    "$x_0 = [0, 0, ..., 0]$."
   ]
  },
  {
   "cell_type": "markdown",
   "metadata": {},
   "source": [
    "## Generalized Quartic function\n",
    "\n",
    "$$\n",
    "f(x) = \\sum_{i=1}^{n-1} x_i^2 + (x_{i+1} + x_i^2)^2\n",
    "$$\n",
    "\n",
    "$x_0 = [1, 1, ..., 1]$."
   ]
  },
  {
   "cell_type": "markdown",
   "metadata": {},
   "source": [
    "## Diagonal 7 function\n",
    "\n",
    "$$\n",
    "f(x) = \\sum_{i=1}^n \\exp(x_i) - 2x_i - x_i^2\n",
    "$$\n",
    "\n",
    "$x_0 = [1, 1, ..., 1]$."
   ]
  },
  {
   "cell_type": "markdown",
   "metadata": {},
   "source": [
    "## Full Hessian FH3 function\n",
    "\n",
    "$$\n",
    "f(x) = \\left( \\sum_{i=1}^n x_i \\right)^2 + \\sum_{i=1}^n (x_i \\exp(x_i) - 2x_i - x_i^2)\n",
    "$$\n",
    "\n",
    "$x_0 = [1, 1, ..., 1]$."
   ]
  },
  {
   "cell_type": "markdown",
   "metadata": {},
   "source": [
    "## SINCOS function\n",
    "\n",
    "$$\n",
    "f(x) = \\sum_{i=1}^{n/2} \\left( x_{2i-1}^2 + x_{2i}^2 + x_{2i-1}x_{2i} \\right)^2 + \\sin^2 x_{2i-1} + \\cos^2 x_{2i}\n",
    "$$\n",
    "\n",
    "$x_0 = [3, 0.1, 3, 0.1, ..., 3, 0.1]$."
   ]
  },
  {
   "cell_type": "markdown",
   "metadata": {},
   "source": [
    "## Diagonal 9 function\n",
    "\n",
    "$$\n",
    "f(x) = \\sum_{i=1}^{n-1} \\left( \\exp(x_i) - ix_i \\right) + 10000x_n^2\n",
    "$$\n",
    "\n",
    "$x_0 = [1, 1, ..., 1]$."
   ]
  },
  {
   "cell_type": "markdown",
   "metadata": {},
   "source": [
    "## HIMMELBG function (CUTE)\n",
    "\n",
    "$$\n",
    "f(x) = \\sum_{i=1}^{n/2} \\left( 2x_{2i-1}^2 + 3x_{2i}^2 \\right) \\exp(-x_{2i-1} - x_{2i})\n",
    "$$\n",
    "\n",
    "$x_0 = [1.5, 1.5, ..., 1.5]$."
   ]
  },
  {
   "cell_type": "markdown",
   "metadata": {},
   "source": [
    "## HIMMELH function (CUTE):\n",
    "$$\n",
    "f(x) = \\sum_{i=1}^{n/2} (-3x_{2i-1} - 2x_{2i} + 2 + x_{2i-1}^3 + x_{2i}^2), \\quad x_0 = [1.5, 1.5, \\ldots, 1.5].\n",
    "$$"
   ]
  },
  {
   "cell_type": "code",
   "execution_count": null,
   "metadata": {},
   "outputs": [],
   "source": []
  },
  {
   "cell_type": "code",
   "execution_count": 4,
   "metadata": {},
   "outputs": [
    {
     "name": "stdout",
     "output_type": "stream",
     "text": [
      "Solution: [-124.62361935    4.36953598    0.            0.            0.\n",
      "    0.            0.            0.            0.            0.        ]\n"
     ]
    }
   ],
   "source": [
    "import numpy as np\n",
    "\n",
    "def stable_exp(x1, x2):\n",
    "    \"\"\"数值稳定的 exp 计算\"\"\"\n",
    "    max_val = -x1 - x2\n",
    "    if max_val > 100:  # 设置一个阈值，避免 exp 过大\n",
    "        return 0.0\n",
    "    return np.exp(max_val)\n",
    "\n",
    "def himmelbg_function(x):\n",
    "    \"\"\"计算HIMMELBG函数值\"\"\"\n",
    "    n = len(x)\n",
    "    assert n % 2 == 0, \"输入向量长度必须为偶数\"\n",
    "    result = 0\n",
    "    for i in range(0, n, 2):\n",
    "        x1, x2 = x[i], x[i+1]\n",
    "        exp_term = stable_exp(x1, x2)\n",
    "        result += (2*x1**2 + 3*x2**2) * exp_term\n",
    "    return result\n",
    "\n",
    "def himmelbg_gradient(x):\n",
    "    \"\"\"计算HIMMELBG函数的梯度\"\"\"\n",
    "    n = len(x)\n",
    "    grad = np.zeros_like(x)\n",
    "    for i in range(0, n, 2):\n",
    "        x1, x2 = x[i], x[i+1]\n",
    "        exp_term = stable_exp(x1, x2)\n",
    "        grad[i] = (4*x1 - 2*(2*x1**2 + 3*x2**2)) * exp_term\n",
    "        grad[i+1] = (6*x2 - 3*(2*x1**2 + 3*x2**2)) * exp_term\n",
    "    return grad\n",
    "\n",
    "def himmelbg_hessian(x):\n",
    "    \"\"\"计算HIMMELBG函数的Hessian矩阵\"\"\"\n",
    "    n = len(x)\n",
    "    hess = np.zeros((n, n))\n",
    "    for i in range(0, n, 2):\n",
    "        x1, x2 = x[i], x[i+1]\n",
    "        exp_term = stable_exp(x1, x2)\n",
    "        hess[i, i] = (4 - 8*x1 + 2*(2*x1**2 + 3*x2**2)) * exp_term\n",
    "        hess[i+1, i+1] = (6 - 12*x2 + 3*(2*x1**2 + 3*x2**2)) * exp_term\n",
    "        hess[i, i+1] = hess[i+1, i] = (-4*x1 - 6*x2 + 2*(2*x1**2 + 3*x2**2)) * exp_term\n",
    "    return hess\n",
    "\n",
    "def sr1_update(G, A, u):\n",
    "    \"\"\"SR1更新规则\"\"\"\n",
    "    delta = A @ u - G @ u\n",
    "    return G + np.outer(delta, delta) / np.dot(u, delta)\n",
    "\n",
    "def sherman_morrison(A_inv, u, v, w):\n",
    "    \"\"\"Sherman-Morrison公式\"\"\"\n",
    "    u = u.reshape(-1, 1)  # 将u转换为列向量\n",
    "    v = v.reshape(-1, 1)  # 将v转换为列向量\n",
    "    num = A_inv @ u @ v.T @ A_inv\n",
    "    den = w - v.T @ A_inv @ u\n",
    "    return A_inv + num / den.item()\n",
    "\n",
    "def l_isr_1(x0, alpha_seq, max_iter=1000, tol=1e-6):\n",
    "    n = len(x0)\n",
    "    x = x0.copy()\n",
    "    z = np.array([x0.copy() for _ in range(n)])\n",
    "    B = [np.eye(n) for _ in range(n)]\n",
    "    phi = np.zeros(n)\n",
    "    g = np.zeros(n)\n",
    "    B_inv = np.eye(n)\n",
    "    \n",
    "    for t in range(max_iter):\n",
    "        i_t = t % n\n",
    "        omega_t = (1 + alpha_seq[t // n])**2 if t % n == 0 else 1\n",
    "        u = np.argmax([(1 + alpha_seq[t // n])**2 * B[i_t][j, j] - himmelbg_hessian(x)[j, j] for j in range(n)])\n",
    "        e_u = np.eye(n)[:, u]  # 获取单位向量\n",
    "        Q = sr1_update((1 + alpha_seq[t // n])**2 * B[i_t], himmelbg_hessian(x), e_u)\n",
    "        B_old = B[i_t].copy()\n",
    "        B[i_t] = Q\n",
    "        z[i_t] = x.copy()\n",
    "        phi = omega_t * (phi - B_old @ z[i_t]) + B[i_t] @ x\n",
    "        g = g + (himmelbg_gradient(x) - himmelbg_gradient(z[i_t]))\n",
    "        \n",
    "        # 更新逆矩阵\n",
    "        v = ((1 + alpha_seq[t // n])**2 * B[i_t] - himmelbg_hessian(z[i_t])) @ e_u\n",
    "        B_inv = sherman_morrison(B_inv, v, v, np.dot(e_u, v))\n",
    "        \n",
    "        # 更新x\n",
    "        x = B_inv @ (phi - g)\n",
    "        \n",
    "        # 检查收敛条件\n",
    "        if np.linalg.norm(himmelbg_gradient(x)) < tol:\n",
    "            break\n",
    "    \n",
    "    return x\n",
    "\n",
    "# 参数设置\n",
    "x0 = np.ones(10) * 1.5  # 初始点\n",
    "alpha_seq = [0.1] * 100  # 步长序列\n",
    "\n",
    "# 调用LISR-1算法\n",
    "solution = l_isr_1(x0, alpha_seq)\n",
    "print(\"Solution:\", solution)"
   ]
  },
  {
   "cell_type": "markdown",
   "metadata": {},
   "source": [
    "Many popular quasi-Newton methods such as DFP, BFGS, and SR1 belong to the Broyden family update~\\cite[Section 6.3]{nocedal1999numerical}, which is defined as follows.\n",
    "\n",
    "% We briefly review a class of quasi-Newton updates for approximating a positive definite matrix $A \\in \\BR^{d \\times d}$. Given a scalar $\\tau \\in [0, 1]$, we define the following family of updates:\n",
    "\n",
    "\\begin{definition}\n",
    "    Let $G\\in\\BR^{d \\times d}$ and $A\\in\\BR^{d \\times d}$ be two positive define matrices satisfying $G \\succeq A$. For any non-zero $u \\in \\BR^d$ and $\\tau\\in[0,1]$, if $G u = A u$, we define \n",
    "    ${\\rm Broyd}_{\\tau}(G, A, u) \\coloneqq G$. Otherwise, we define\n",
    "    \\begin{equation}\n",
    "    \\small\n",
    "    \\begin{split}\n",
    "        \\!& \\!{\\rm Broyd}_{\\tau}(G, A, u) \\\\ \n",
    "        \\!\\!\\coloneqq & \\tau \\left[ G - \\frac{A u u^{\\top}G + G u u^{\\top} A}{u^{\\top} A u} + \\left( \\frac{u^{\\top} G u}{u^{\\top} A u} + 1\\right) \\frac{A u u^{\\top} A}{u^{\\top} A u} \\right] \\\\\n",
    "        & \\quad + (1 - \\tau) \\left[ G - \\frac{(G - A) u u^{\\top} (G - A)}{u^{\\top} (G - A) u}\\right].\n",
    "    \\end{split}\n",
    "    \\label{broyden_eq}\n",
    "    \\end{equation}\n",
    "\\end{definition}\n",
    "\n",
    "We can recover several well-known quasi-Newton methods by taking the different values of $\\tau$:\n",
    "\\begin{itemize}\n",
    "\\item  For $\\tau = 1$, Eq. (\\ref{broyden_eq}) corresponds to the DFP update\n",
    "\\begin{equation*}\n",
    "\\begin{split}\n",
    "    {\\rm DFP}(G, A, u) \\coloneqq & G - \\frac{A u u^{\\top} G + G u u^{\\top} A}{u^{\\top} A u}  \\\\\n",
    "    & \\quad + \\left( \\frac{u^{\\top} G u}{u^{\\top} A u} + 1 \\right) \\frac{A u u^{\\top} A}{u^{\\top} A u}.\n",
    "\\end{split}\n",
    "\\end{equation*}\n",
    "\\item For $\\tau = \\dfrac{u^{\\top} A u}{u^{\\top} G u}$, we recover the BFGS update\n",
    "\\begin{equation*}\n",
    "    {\\rm BFGS}(G, A, u) \\coloneqq G - \\frac{G u u^{\\top} G}{u^{\\top} G u} + \\frac{A u u^{\\top} A}{u^{\\top} A u}.\n",
    "\\end{equation*}\n",
    "\\item For $\\tau=0$, we achieve the SR1 update\n",
    "\\begin{equation}\n",
    "    {\\rm SR1}(G, A, u) \\coloneqq G - \\frac{(G - A) u u^{\\top} (G - A)}{u^{\\top} (G - A) u}.\n",
    "    \\label{sr1_def}\n",
    "\\end{equation}\n",
    "\\end{itemize}\n",
    "\n",
    "\n",
    "\\begin{algorithm}[tb]\n",
    "\\caption{The LISR-1 method}\n",
    "\\label{alg:iqn_algos_efficient}\n",
    "\\textbf{Input}: Initial point $x^0$, a predefined sequence $\\{\\alpha_k\\}_{k=0}^{\\infty}$, and a sequence of initial matrices $\\{E_i^0\\}_{i=1}^n$ s.t. $E_i^0 \\succeq \\nabla^2 f_i(z_i^0)$, $\\forall i \\in [n]$.\\\\\n",
    "\\textbf{Output}: The last iterate $x^t$.\n",
    "\\begin{algorithmic}[1] %[1] enables line numbers\n",
    "\\STATE Initialize $z_i^0 = x^0$, $\\forall i \\in [n]$; Initialize $B_i^0 = (1 + \\alpha_0)^2 E_i^0$, $\\forall i \\in [n]$;\n",
    "\\STATE Maintain running auxiliary variables $x$, $\\Bar{u}$.\n",
    "\\STATE Let $t=0$.\n",
    "\\WHILE{not converged}\n",
    "\\STATE Current index to be updated is $i_t \\gets t \\mod n$;\n",
    "\\STATE Update $x^t$ as $x \\gets (\\Bar{B})^{-1} (\\phi - g)$.\n",
    "\\STATE Compute $\\omega_t$;// $\\omega_t = (1 + \\alpha_{\\ceil{t/n}})^2$ if $t \\mod n = 0$ and 1 otherwise\n",
    "\\STATE Update $\\Bar{u}$ as $\\Bar{u} \\gets \\argmax_{u \\in \\{ e_i\\}_{i=1}^d} (\\langle u, (1 + \\alpha_{\\ceil{t/n}})^2 B_{i_t} u \\rangle - \\langle u, \\nabla^2 f_{i_t}(x^t) u\\rangle)$;\n",
    "\\STATE Update $Q \\gets  \\mathrm{SR}1 ((1 + \\alpha_{\\ceil{t/n}})^2 B_{i_t}, \\nabla^2 f_{i_t}(x^t), \\Bar{u})$;\n",
    "\\STATE Update $B^{\\textrm{old}} \\gets B_{i_t}$;\n",
    "\\STATE Update $B_{i_t} \\gets Q$;\n",
    "\\STATE Update $z_{i_t}^t$ as $z_{i_t}^t = x^t$.\n",
    "\\STATE Update $\\phi$ as $\\phi \\gets \\omega_t (\\phi - B^{\\textrm{old}} z_{i_t}) + B_{i_t} x^t$;\n",
    "\\STATE Update $g$ as $g \\gets g + (\\nabla f_{i_t} (x^t) - \\nabla f_{i_t} (z_{i_t}))$;\n",
    "\\STATE Update $(\\Bar{B})^{-1}$ as $(\\Bar{B})^{-1} \\gets \\omega_t^{-1} \\mathrm{Sherman}\\textrm{-} \\mathrm{Morrison}(\\Bar{B}^{-1}, v, v, \\langle \\Bar{u}, v \\rangle)$; // $v = ((1 + \\alpha_{\\ceil{t/n}})^2 B_{i_t} - \\nabla^2 f_{i_t}(z_{i_t})) \\Bar{u}$.\n",
    "\\STATE Increment the iteration counter $t$.\n",
    "\\ENDWHILE\n",
    "\\STATE \\textbf{return} $x^t$.\n",
    "\\end{algorithmic}\n",
    "\\end{algorithm}\n",
    "\n",
    "\n",
    "\\begin{algorithm}[H]\n",
    "\\caption{Sherman-Morrison($A^{-1}$, U, V, W)}\n",
    "\\label{alg:sherman_morrison}\n",
    "\\textbf{Input}: $A^{-1} \\in \\BR^{d \\times d}$, $U \\in \\BR^{d \\times k}$, $V \\in \\BR^{d \\times k}$, $W \\in \\BR^{k \\times k}$.\\\\\n",
    "\\textbf{Output}: The updated $A^{-1}$.\n",
    "\\begin{algorithmic}[1] %[1] enables line numbers\n",
    "\\STATE \\textbf{return} $A^{-1} + A^{-1}U \\left(W - U^{\\top}A^{-1} V\\right)^{-1} V^{\\top} A^{-1}$.\n",
    "\\end{algorithmic}\n",
    "\\end{algorithm}\n",
    "\n",
    "\n",
    "可以根据这些信息给我LISR-1的python代码么？"
   ]
  }
 ],
 "metadata": {
  "kernelspec": {
   "display_name": "ael",
   "language": "python",
   "name": "python3"
  },
  "language_info": {
   "codemirror_mode": {
    "name": "ipython",
    "version": 3
   },
   "file_extension": ".py",
   "mimetype": "text/x-python",
   "name": "python",
   "nbconvert_exporter": "python",
   "pygments_lexer": "ipython3",
   "version": "3.10.16"
  }
 },
 "nbformat": 4,
 "nbformat_minor": 2
}
